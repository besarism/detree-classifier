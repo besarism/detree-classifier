{
 "cells": [
  {
   "cell_type": "code",
   "execution_count": 14,
   "id": "dd2b5e92-fd91-43a3-b08e-bf1f9cd36a99",
   "metadata": {},
   "outputs": [
    {
     "name": "stdout",
     "output_type": "stream",
     "text": [
      "Large synthetic dataset created and saved!\n"
     ]
    }
   ],
   "source": [
    "import numpy as np\n",
    "import pandas as pd\n",
    "\n",
    "# Seed for reproducibility\n",
    "np.random.seed(42)\n",
    "\n",
    "# Larger dataset (e.g., 1000 samples)\n",
    "n_samples = 100000\n",
    "\n",
    "# Features\n",
    "age = np.random.randint(18, 70, n_samples)\n",
    "time_on_site = np.random.normal(5, 1.5, n_samples)\n",
    "income = np.random.randint(20000, 120000, n_samples)\n",
    "\n",
    "# Improved logic for target generation\n",
    "clicked_ad = (\n",
    "    (time_on_site * 0.6) + (age * 0.04) + (income / 50000) + np.random.randn(n_samples) * 0.3\n",
    ") > 5.5  # clearly adjusted threshold for clearer separation\n",
    "clicked_ad = clicked_ad.astype(int)\n",
    "\n",
    "# DataFrame\n",
    "df = pd.DataFrame({\n",
    "    'Age': age,\n",
    "    'DailyTimeOnSite': time_on_site,\n",
    "    'Income': income,\n",
    "    'ClickedAd': clicked_ad\n",
    "})\n",
    "\n",
    "# Save larger dataset\n",
    "df.to_csv('ad_clicks_large.csv', index=False)\n",
    "print(\"Large synthetic dataset created and saved!\")\n"
   ]
  },
  {
   "cell_type": "code",
   "execution_count": 18,
   "id": "7de840c5-4411-4e0a-9b0e-e6e7372f9588",
   "metadata": {},
   "outputs": [
    {
     "name": "stdout",
     "output_type": "stream",
     "text": [
      "Accuracy: 0.72\n",
      "              precision    recall  f1-score   support\n",
      "\n",
      "           0       0.73      0.76      0.74        21\n",
      "           1       0.72      0.68      0.70        19\n",
      "\n",
      "    accuracy                           0.73        40\n",
      "   macro avg       0.72      0.72      0.72        40\n",
      "weighted avg       0.72      0.72      0.72        40\n",
      "\n",
      "Explicitly trained model saved successfully!\n"
     ]
    }
   ],
   "source": [
    "import pandas as pd\n",
    "from sklearn.model_selection import train_test_split\n",
    "from sklearn.linear_model import LogisticRegression\n",
    "from sklearn.metrics import accuracy_score, classification_report\n",
    "import joblib\n",
    "\n",
    "# Load dataset\n",
    "df = pd.read_csv('ad_clicks.csv')\n",
    "\n",
    "# Features & target\n",
    "X = df[['Age', 'DailyTimeOnSite', 'Income']]\n",
    "y = df['ClickedAd']\n",
    "\n",
    "# Split data\n",
    "X_train, X_test, y_train, y_test = train_test_split(\n",
    "    X, y, test_size=0.2, random_state=42\n",
    ")\n",
    "\n",
    "# Explicitly set multi_class='ovr'\n",
    "model = LogisticRegression(max_iter=1000, solver='lbfgs', multi_class='ovr')\n",
    "model.fit(X_train, y_train)\n",
    "\n",
    "# Evaluate model\n",
    "predictions = model.predict(X_test)\n",
    "accuracy = accuracy_score(y_test, predictions)\n",
    "print(f\"Accuracy: {accuracy:.2f}\")\n",
    "print(classification_report(y_test, predictions))\n",
    "\n",
    "# Save explicitly trained model\n",
    "joblib.dump(model, 'logistic_model_ovr.pkl')\n",
    "print(\"Explicitly trained model saved successfully!\")\n"
   ]
  },
  {
   "cell_type": "code",
   "execution_count": 20,
   "id": "4922225f-079b-4f57-9a2f-805e3f8af8d3",
   "metadata": {},
   "outputs": [
    {
     "name": "stdout",
     "output_type": "stream",
     "text": [
      "✅ CoreML model created and saved successfully!\n"
     ]
    }
   ],
   "source": [
    "import joblib\n",
    "import coremltools as ct\n",
    "\n",
    "# Load the saved logistic regression model\n",
    "model = joblib.load('logistic_model_ovr.pkl')\n",
    "\n",
    "# Define the input feature names explicitly\n",
    "input_features = ['Age', 'DailyTimeOnSite', 'Income']\n",
    "\n",
    "# Clearly define the output feature name and numeric labels\n",
    "output_feature_name = 'ClickedAd'\n",
    "class_labels = [0, 1]  # Numeric labels clearly matching trained model\n",
    "\n",
    "# Convert model to CoreML format\n",
    "coreml_model = ct.converters.sklearn.convert(\n",
    "    model,\n",
    "    input_features=input_features,\n",
    "    output_feature_names=output_feature_name\n",
    ")\n",
    "\n",
    "# Save CoreML model\n",
    "coreml_model.save('AdClickPredictor.mlmodel')\n",
    "print(\"✅ CoreML model created and saved successfully!\")\n"
   ]
  }
 ],
 "metadata": {
  "kernelspec": {
   "display_name": "Python 3 (ipykernel)",
   "language": "python",
   "name": "python3"
  },
  "language_info": {
   "codemirror_mode": {
    "name": "ipython",
    "version": 3
   },
   "file_extension": ".py",
   "mimetype": "text/x-python",
   "name": "python",
   "nbconvert_exporter": "python",
   "pygments_lexer": "ipython3",
   "version": "3.9.21"
  }
 },
 "nbformat": 4,
 "nbformat_minor": 5
}
